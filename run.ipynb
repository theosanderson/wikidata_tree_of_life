{
 "cells": [
  {
   "cell_type": "code",
   "execution_count": null,
   "metadata": {},
   "outputs": [],
   "source": [
    "import requests\n",
    "\"\"\"\n",
    "The query is:\n",
    "\n",
    "\"\"\"\n",
    "\n",
    "query = \"\"\"\n",
    "PREFIX wikibase: <http://wikiba.se/ontology#>\n",
    "PREFIX schema: <http://schema.org/>\n",
    "PREFIX wd: <http://www.wikidata.org/entity/>\n",
    "PREFIX wdt: <http://www.wikidata.org/prop/direct/>\n",
    "PREFIX rdfs: <http://www.w3.org/2000/01/rdf-schema#>\n",
    "PREFIX prov: <http://www.w3.org/ns/prov#>\n",
    "PREFIX pr: <http://www.wikidata.org/prop/reference/>\n",
    "SELECT DISTINCT ?wikidata_id ?wikipedia_id ?image ?sitelinks ?name ?parent ?parentPref ?taxRankName WHERE {\n",
    "  #BIND(wd:Q13446570 AS ?wikidata_id)\n",
    "  {?wikidata_id wdt:P171 ?parent. } UNION {BIND( wd:Q2382443 AS ?wikidata_id)} # either it has a parent or it is a root\n",
    "  OPTIONAL {?wikidata_id wdt:P18 ?image.}\n",
    "  OPTIONAL {?wikidata_id wdt:P105 ?taxRank.\n",
    "  ?taxRank @en@rdfs:label ?taxRankName .\n",
    "  }\n",
    "  OPTIONAL { # this is a particular paper we trust for the high-level hierarchy\n",
    "  ?wikidata_id <http://www.wikidata.org/prop/P171> ?parentPref.\n",
    "  ?parentPref prov:wasDerivedFrom ?x.\n",
    "  ?x <http://www.wikidata.org/prop/reference/P248> wd:Q19858624.\n",
    "  }\n",
    "  OPTIONAL {\n",
    "  ?wikipedia_id schema:inLanguage \"en\" .\n",
    "  ?wikipedia_id schema:about ?wikidata_id.\n",
    "  ?wikidata_id ^schema:about/wikibase:sitelinks ?sitelinks .\n",
    "  # must be wikipedia\n",
    "  ?wikipedia_id schema:isPartOf <https://en.wikipedia.org/> .\n",
    "  }\n",
    "  ?wikidata_id @en@rdfs:label ?name .\n",
    "}\n",
    "\"\"\"\n",
    "url = \"https://qlever.cs.uni-freiburg.de/api/wikidata?query=\" + requests.utils.quote(query) + \"&action=tsv_export\"\n",
    "r = requests.get(url)\n",
    "r.raise_for_status()\n",
    "with open(\"data.tsv\", \"w\") as f:\n",
    "    f.write(r.text)\n",
    "\n"
   ]
  },
  {
   "cell_type": "code",
   "execution_count": 1,
   "metadata": {},
   "outputs": [
    {
     "name": "stderr",
     "output_type": "stream",
     "text": [
      "/var/folders/29/cygttqzs4gq3vzhzg230d9pr0000gn/T/ipykernel_21106/706081829.py:3: DtypeWarning: Columns (3,6) have mixed types. Specify dtype option on import or set low_memory=False.\n",
      "  df = pd.read_csv(\"data.tsv\", sep=\"\\t\", names=headings)\n",
      "100%|██████████| 3615774/3615774 [06:12<00:00, 9698.13it/s] \n"
     ]
    }
   ],
   "source": [
    "\n",
    "import pandas as pd\n",
    "headings = [\"wikidata_id\", \"wikipedia_id\", \"image\", \"sitelinks\", \"name\", \"parent\", \"parentPref\", \"taxRankName\"]\n",
    "df = pd.read_csv(\"data.tsv\", sep=\"\\t\", names=headings)\n",
    "from_wd_id = {}\n",
    "import tqdm\n",
    "import dataclasses\n",
    "@dataclasses.dataclass\n",
    "class Taxon:\n",
    "    wd_id: str\n",
    "    name: str\n",
    "    parent: str\n",
    "    wikipedia_id: str\n",
    "    image: str\n",
    "    taxRank: str\n",
    "    children: list = dataclasses.field(default_factory=list)\n",
    "    ranks: dict = dataclasses.field(default_factory=dict)\n",
    "\n",
    "grouped = df.groupby(\"wikidata_id\")\n",
    "for wd_id, group in tqdm.tqdm(grouped):\n",
    "    # get first for these:\n",
    "    image = group[\"image\"].iloc[0]\n",
    "    wikipedia_id = group[\"wikipedia_id\"].iloc[0]\n",
    "    name = group[\"name\"].iloc[0]\n",
    "    taxRank = group[\"taxRankName\"].iloc[0]\n",
    "\n",
    "    # there is a single row in group:\n",
    "    if len(group.parent.unique()) == 1:\n",
    "        parent = group[\"parent\"].iloc[0]\n",
    "    else:\n",
    "        # if there is a non-null parentPref, use that\n",
    "        parentPref = group[\"parentPref\"].unique()\n",
    "        parentPref = parentPref[~pd.isnull(parentPref)]\n",
    "        if len(parentPref) > 0:\n",
    "            parent = parentPref[0]\n",
    "        else:\n",
    "            # else use the parent\n",
    "            parent = group[\"parent\"].iloc[0]\n",
    "        \n",
    "    taxon = Taxon(wd_id, name, parent, wikipedia_id, image, taxRank)\n",
    "    from_wd_id[wd_id] = taxon\n",
    "\n",
    "\n"
   ]
  },
  {
   "cell_type": "code",
   "execution_count": 2,
   "metadata": {},
   "outputs": [
    {
     "name": "stdout",
     "output_type": "stream",
     "text": [
      "11109\n",
      "1143\n",
      "167\n",
      "30\n",
      "7\n",
      "3\n",
      "1\n"
     ]
    }
   ],
   "source": [
    "to_include = set()\n",
    "for taxon in from_wd_id.values():\n",
    "    # wikipedia id not nan\n",
    "    if not pd.isnull(taxon.image):\n",
    "        to_include.add(taxon.wd_id)\n",
    "# iteratively add parents\n",
    "while True:\n",
    "    to_add = set()\n",
    "    for wd_id in to_include:\n",
    "        taxon = from_wd_id[wd_id]\n",
    "        if taxon.parent in from_wd_id and taxon.parent not in to_include:\n",
    "            to_add.add(taxon.parent)\n",
    "    if len(to_add) == 0:\n",
    "        break\n",
    "    to_include.update(to_add)\n",
    "    print(len(to_add))"
   ]
  },
  {
   "cell_type": "code",
   "execution_count": 3,
   "metadata": {},
   "outputs": [
    {
     "name": "stdout",
     "output_type": "stream",
     "text": [
      "no parent for <http://www.wikidata.org/entity/Q10719811> Weyrauchia peruviana@en <http://www.wikidata.org/entity/Q102318370>\n",
      "no parent for <http://www.wikidata.org/entity/Q108225714> Dactyloidites@en <http://www.wikidata.org/entity/Q23012932>\n",
      "no parent for <http://www.wikidata.org/entity/Q109914291> Phasmichnus radagasti@en <http://www.wikidata.org/entity/Q109914298>\n",
      "no parent for <http://www.wikidata.org/entity/Q111398064> Hapsidophyllas@en _:u_351360f8ac54364e1255a14431845818\n",
      "no parent for <http://www.wikidata.org/entity/Q112669720> Wathondara kotejai@en <http://www.wikidata.org/entity/Q112669745>\n",
      "no parent for <http://www.wikidata.org/entity/Q11299399> Cryptista@en <http://www.wikidata.org/entity/statement/Q11299399-E20CC939-DDC9-4830-9DA3-8EBDA79B16B6>\n",
      "no parent for <http://www.wikidata.org/entity/Q113991275> Parioscorpio@en <http://www.wikidata.org/entity/Q124147>\n",
      "no parent for <http://www.wikidata.org/entity/Q1205126> Choanozoa@en <http://www.wikidata.org/entity/statement/Q1205126-aff4fa58-4477-91e4-71c8-d7aa72c385c7>\n",
      "no parent for <http://www.wikidata.org/entity/Q1211307> Spiralia@en <http://www.wikidata.org/entity/statement/Q1211307-251E5EF2-021E-4EF6-8401-3D58D714F18F>\n",
      "no parent for <http://www.wikidata.org/entity/Q1493> Ananas comosus@en <http://www.wikidata.org/entity/Q1088740>\n",
      "no parent for <http://www.wikidata.org/entity/Q17115948> Frizzle@en <http://www.wikidata.org/entity/Q780>\n",
      "no parent for <http://www.wikidata.org/entity/Q19844907> Trichophycus@en <http://www.wikidata.org/entity/Q23012932>\n",
      "no parent for <http://www.wikidata.org/entity/Q21573489> Nereites@en _:u_773798ce9e22421cd93ed3e8f851b7e7\n",
      "no parent for <http://www.wikidata.org/entity/Q2382443> biota@en nan\n",
      "no parent for <http://www.wikidata.org/entity/Q25347> moss@en <http://www.wikidata.org/entity/statement/Q25347-27AC31A3-CAB7-4825-B09E-66C68950C2D4>\n",
      "no parent for <http://www.wikidata.org/entity/Q29570013> Plexus@en _:u_6d30f38e9702e3cb24a08edcaff7fdfa\n",
      "no parent for <http://www.wikidata.org/entity/Q30893769> Dorsetichthys bechei@en <http://www.wikidata.org/entity/Q60792312>\n",
      "no parent for <http://www.wikidata.org/entity/Q3286555> Mansonella ozzardi@en <http://www.wikidata.org/entity/Q203133>\n",
      "no parent for <http://www.wikidata.org/entity/Q41166009> Mesodon bucklandi@en <http://www.wikidata.org/entity/Q41155547>\n",
      "no parent for <http://www.wikidata.org/entity/Q473747> Chytridiomycota@en <http://www.wikidata.org/entity/statement/Q473747-4491F316-DD55-4634-A1A8-920D464175AF>\n",
      "no parent for <http://www.wikidata.org/entity/Q473809> Amoebozoa@en <http://www.wikidata.org/entity/statement/Q473809-f5cc6970-4106-b900-23cd-9fd2f4b26ead>\n",
      "no parent for <http://www.wikidata.org/entity/Q4810660> Asteriatites@en <http://www.wikidata.org/entity/Q23012932>\n",
      "no parent for <http://www.wikidata.org/entity/Q500497> Cercozoa@en <http://www.wikidata.org/entity/statement/Q500497-04F40863-E8F6-4D08-8A23-CFDA01277236>\n",
      "no parent for <http://www.wikidata.org/entity/Q5190350> Cruziana@en <http://www.wikidata.org/entity/Q23012932>\n",
      "no parent for <http://www.wikidata.org/entity/Q5574126> Gnathichnus@en <http://www.wikidata.org/entity/Q23012932>\n",
      "no parent for <http://www.wikidata.org/entity/Q597831> Aquificae@en <http://www.wikidata.org/entity/statement/Q597831-677bbb9f-41cf-ae03-6c61-568dcf392d65>\n",
      "no parent for <http://www.wikidata.org/entity/Q6121678> Sapajus nigritus cucullatus@en <http://www.wikidata.org/entity/Q24170509>\n",
      "no parent for <http://www.wikidata.org/entity/Q6121679> Sapajus nigritus nigritus@en <http://www.wikidata.org/entity/Q24170509>\n",
      "no parent for <http://www.wikidata.org/entity/Q65120804> Maaqwi@en <http://www.wikidata.org/entity/Q41767729>\n",
      "no parent for <http://www.wikidata.org/entity/Q7113231> Ovaloolithus@en <http://www.wikidata.org/entity/Q3817122>\n",
      "no parent for <http://www.wikidata.org/entity/Q753723> Glomeromycota@en <http://www.wikidata.org/entity/statement/Q753723-d0fae1f3-408f-d56e-3b41-27a6ea9e5123>\n",
      "no parent for <http://www.wikidata.org/entity/Q756> plant@en <http://www.wikidata.org/entity/statement/Q756-3d0fd889-4732-d095-9014-0d3af8edc9f9>\n",
      "no parent for <http://www.wikidata.org/entity/Q764> fungus@en <http://www.wikidata.org/entity/statement/Q764-84521970-4966-16e5-f708-62d906b7ee1a>\n",
      "no parent for <http://www.wikidata.org/entity/Q7689342> Tawuia@en _:u_05fb030c98745c5525080511ebe482f5\n",
      "no parent for <http://www.wikidata.org/entity/Q85805526> Temnoxa molluscula@en _:u_4c0b6bd2e53e98dcd5a9d75eee0b6033\n",
      "no parent for <http://www.wikidata.org/entity/Q98929917> Nessiteras@en <http://www.wikidata.org/entity/Q99161984>\n",
      "no parent for <http://www.wikidata.org/entity/Q98930298> Helacytidae@en _:u_e1c3b3fdd571b3f9bc9a47e56ef2db08\n",
      "no parent for ?wikidata_id ?name ?parent\n",
      "missings 38\n"
     ]
    }
   ],
   "source": [
    "missings = 0\n",
    "for wd_id, taxon in from_wd_id.items():\n",
    "    if wd_id in to_include:\n",
    "        try:\n",
    "            parent = from_wd_id[taxon.parent]\n",
    "            parent.children.append(taxon)\n",
    "        except KeyError:\n",
    "            print(\"no parent for\", wd_id, taxon.name, taxon.parent)\n",
    "            missings += 1\n",
    "print(\"missings\", missings)"
   ]
  },
  {
   "cell_type": "code",
   "execution_count": 4,
   "metadata": {},
   "outputs": [],
   "source": [
    "def as_newick(taxon):\n",
    "    if len(taxon.children) == 0:\n",
    "        return taxon.wd_id+\":1\"\n",
    "    else:\n",
    "        return f\"({','.join(as_newick(child) for child in taxon.children)}){taxon.wd_id}:1\"\n",
    "\n",
    "for key, value in from_wd_id.items():\n",
    "    # strip the <http://www.wikidata.org/entity/\n",
    "    value.wd_id = value.wd_id.replace(\"<http://www.wikidata.org/entity/\", \"\").replace(\">\", \"\")\n",
    "\n",
    "root = from_wd_id[\"<http://www.wikidata.org/entity/Q2382443>\"]\n",
    "newick = as_newick(root)"
   ]
  },
  {
   "cell_type": "code",
   "execution_count": 5,
   "metadata": {},
   "outputs": [
    {
     "name": "stderr",
     "output_type": "stream",
     "text": [
      "100%|██████████| 179780/179780 [00:05<00:00, 35418.38it/s]\n"
     ]
    }
   ],
   "source": [
    "def yield_all_descendants(taxon):\n",
    "    yield taxon\n",
    "    for child in taxon.children:\n",
    "        yield from yield_all_descendants(child)\n",
    "\n",
    "for starting_point in tqdm.tqdm(list(yield_all_descendants(root))):\n",
    "    if starting_point.taxRank:\n",
    "        for descendant in yield_all_descendants(starting_point):\n",
    "            descendant.ranks[starting_point.taxRank] = starting_point.name"
   ]
  },
  {
   "cell_type": "code",
   "execution_count": 6,
   "metadata": {},
   "outputs": [
    {
     "data": {
      "text/plain": [
       "Taxon(wd_id='Q1344556', name='Duck-billed Buntingi@en', parent='<http://www.wikidata.org/entity/Q662946>', wikipedia_id='<https://en.wikipedia.org/wiki/Adrianichthys_kruyti>', image='<http://commons.wikimedia.org/wiki/Special:FilePath/Andrianichthys%20kruyti.jpg>', taxRank='species@en', children=[], ranks={'superdomain@en': 'biota@en', 'superkingdom@en': 'eukaryote@en', 'kingdom@en': 'animal@en', 'subkingdom@en': 'Bilateria@en', 'infrakingdom@en': 'deuterostome@en', 'phylum@en': 'Chordata@en', 'subphylum@en': 'Vertebrata@en', 'infraphylum@en': 'Gnathostomata@en', nan: 'Teleostomi@en', 'megaclass@en': 'Osteichthyes@en', 'superclass@en': 'Actinopterygii@en', 'order@en': 'Beloniformes@en', 'suborder@en': 'Adrianichthyoidei@en', 'family@en': 'ricefish@en', 'subfamily@en': 'Adrianichthyinae@en', 'genus@en': 'Adrianichthys@en', 'species@en': 'Duck-billed Buntingi@en'})"
      ]
     },
     "execution_count": 6,
     "metadata": {},
     "output_type": "execute_result"
    }
   ],
   "source": [
    "from_wd_id[\"<http://www.wikidata.org/entity/Q1344556>\"]"
   ]
  },
  {
   "cell_type": "code",
   "execution_count": 9,
   "metadata": {},
   "outputs": [
    {
     "name": "stderr",
     "output_type": "stream",
     "text": [
      "100%|██████████| 179780/179780 [00:03<00:00, 51771.84it/s]\n"
     ]
    }
   ],
   "source": [
    "rows = []\n",
    "for node in tqdm.tqdm(list(yield_all_descendants(root))):\n",
    "    row = {}\n",
    "    row[\"wd_id\"] = node.wd_id\n",
    "    for rank, name in node.ranks.items():\n",
    "        # if rank or name is nan, skip\n",
    "        if pd.isnull(rank) or pd.isnull(name):\n",
    "            continue\n",
    "        rank_fixed = rank.replace(\"@en\", \"\")\n",
    "        name_fixed = name.replace(\"@en\", \"\")\n",
    "        row[rank_fixed] = name_fixed\n",
    "    rows.append(row)\n",
    "\n",
    "import pandas as pd\n",
    "rank_df = pd.DataFrame(rows)\n"
   ]
  },
  {
   "cell_type": "code",
   "execution_count": 12,
   "metadata": {},
   "outputs": [],
   "source": [
    "#replace any nans with \"\"\n",
    "rank_df = rank_df.fillna(\"\")"
   ]
  },
  {
   "cell_type": "code",
   "execution_count": 28,
   "metadata": {},
   "outputs": [],
   "source": [
    "\n",
    "import gzip\n",
    "# write to file\n",
    "with open(\"wikidata-taxonomy.nwk\", \"wt\") as f:\n",
    "    f.write(newick)\n",
    "    f.write(\";\")"
   ]
  },
  {
   "cell_type": "code",
   "execution_count": 14,
   "metadata": {},
   "outputs": [
    {
     "name": "stderr",
     "output_type": "stream",
     "text": [
      "/var/folders/29/cygttqzs4gq3vzhzg230d9pr0000gn/T/ipykernel_21106/1095636869.py:8: FutureWarning: The default value of regex will change from True to False in a future version.\n",
      "  df_out[\"wikidata_id\"] = df_out[\"wikidata_id\"].str.replace(\"<http://www.wikidata.org/entity/\", \"\").str.replace(\">\", \"\")\n",
      "/var/folders/29/cygttqzs4gq3vzhzg230d9pr0000gn/T/ipykernel_21106/1095636869.py:10: FutureWarning: The default value of regex will change from True to False in a future version.\n",
      "  df_out[\"wikipedia_id\"] = df_out[\"wikipedia_id\"].str.replace(\"<https://en.wikipedia.org/wiki/\", \"\").str.replace(\">\", \"\")\n",
      "/var/folders/29/cygttqzs4gq3vzhzg230d9pr0000gn/T/ipykernel_21106/1095636869.py:28: FutureWarning: The default value of regex will change from True to False in a future version.\n",
      "  df_out[\"image_thumb\"] = df_out[\"image\"].str.replace(\"<http://commons.wikimedia.org/wiki/Special:FilePath/\", \"\")\n"
     ]
    }
   ],
   "source": [
    "df_out = df.copy()\n",
    "# filter to to_include\n",
    "df_out = df_out[df_out.wikidata_id.isin(to_include)]\n",
    "#remove @en@ from labels\n",
    "df_out[\"name\"] = df_out[\"name\"].str.replace(\"@en\", \"\")\n",
    "df_out[\"taxRankName\"] = df_out[\"taxRankName\"].str.replace(\"@en\", \"\")\n",
    "# remove <http://www.wikidata.org/entity/ from wikidata_id\n",
    "df_out[\"wikidata_id\"] = df_out[\"wikidata_id\"].str.replace(\"<http://www.wikidata.org/entity/\", \"\").str.replace(\">\", \"\")\n",
    "# remove <https://en.wikipedia.org/wiki/ from wikipedia_id\n",
    "df_out[\"wikipedia_id\"] = df_out[\"wikipedia_id\"].str.replace(\"<https://en.wikipedia.org/wiki/\", \"\").str.replace(\">\", \"\")\n",
    "\n",
    "import hashlib\n",
    "import urllib\n",
    "def get_wc_thumb(image, width=200): # image = e.g. from Wikidata, width in pixels\n",
    "    if image == \"\":\n",
    "        return \"\"\n",
    "    if pd.isnull(image):\n",
    "        return \"\"\n",
    "    image = image.replace(' ', '_') # need to replace spaces with underline \n",
    "    m = hashlib.md5()\n",
    "    m.update(image.encode('utf-8'))\n",
    "    d = m.hexdigest()\n",
    "    return \"https://upload.wikimedia.org/wikipedia/commons/thumb/\"+d[0]+'/'+d[0:2]+'/'+image+'/'+str(width)+'px-'+image\n",
    "\n",
    "# strip the http://commons.wikimedia.org/wiki/Special:FilePath/ from image\n",
    "# if image is nan set to \"\"\n",
    "df_out.loc[pd.isnull(df_out.image), \"image\"] = \"\"\n",
    "df_out[\"image_thumb\"] = df_out[\"image\"].str.replace(\"<http://commons.wikimedia.org/wiki/Special:FilePath/\", \"\")\n",
    "df_out[\"image_thumb\"] = df_out[\"image_thumb\"].str.replace(\">\", \"\")\n",
    "#unurl encode\n",
    "def unurlencode(s):\n",
    "    # %20 to \" \", etc.\n",
    "    return urllib.parse.unquote(s)\n",
    "df_out[\"image_thumb\"] = df_out[\"image_thumb\"].apply(unurlencode)\n",
    "# add the thumb\n",
    "df_out[\"image_thumb\"] = df_out[\"image_thumb\"].apply(get_wc_thumb)\n",
    "\n"
   ]
  },
  {
   "cell_type": "code",
   "execution_count": 15,
   "metadata": {},
   "outputs": [],
   "source": [
    "def format_wikilink(s):\n",
    "    if pd.isnull(s):\n",
    "        return \"\"\n",
    "    if s == \"\":\n",
    "        return \"\"\n",
    "    return f\"[{s}](https://en.wikipedia.org/wiki/{s})\"\n",
    "df_out[\"wikipedia_id\"] = df_out[\"wikipedia_id\"].apply(format_wikilink)\n",
    "\n",
    "# capitalize the first letter of the name\n",
    "df_out[\"name\"] = df_out[\"name\"].str.capitalize()\n",
    "def format_wikidata(s):\n",
    "    if pd.isnull(s):\n",
    "        return \"\"\n",
    "    if s == \"\":\n",
    "        return \"\"\n",
    "    return f\"[{s}](https://www.wikidata.org/wiki/{s})\"\n",
    "\n",
    "df_out[\"wikidata_link\"] = df_out[\"wikidata_id\"].apply(format_wikidata)"
   ]
  },
  {
   "cell_type": "code",
   "execution_count": 16,
   "metadata": {},
   "outputs": [],
   "source": [
    "# filter columns and rename to WikiPage, WikiData_id, ThumbnailURL, rank\n",
    "df_out = df_out[[\"wikidata_id\", \"wikipedia_id\", \"image_thumb\", \"name\", \"taxRankName\",\"wikidata_link\"]]\n",
    "df_out.columns = [\"WikiData_id\", \"WikiPage\", \"ThumbnailURL\", \"name\", \"rank\",\"WikidataLink\"]\n",
    "\n"
   ]
  },
  {
   "cell_type": "code",
   "execution_count": 18,
   "metadata": {},
   "outputs": [],
   "source": [
    "#make df_out unique by wikidata_id\n",
    "df_out = df_out.drop_duplicates(subset=\"WikiData_id\")\n",
    "# merge with rank_df\n",
    "df_out = df_out.merge(rank_df, left_on=\"WikiData_id\", right_on=\"wd_id\", how=\"left\")\n",
    "df_out.to_csv(\"wikidata-taxonomy.tsv\", sep=\"\\t\", index=False)"
   ]
  },
  {
   "cell_type": "code",
   "execution_count": 19,
   "metadata": {},
   "outputs": [
    {
     "data": {
      "text/plain": [
       "Index(['wd_id', 'superdomain', 'domain', 'superkingdom', 'phylum', 'order',\n",
       "       'family', 'genus', 'species', 'class', 'kingdom', 'superphylum',\n",
       "       'subkingdom', 'infrakingdom', 'pathovar', 'subspecies', 'subphylum',\n",
       "       'tribe', 'subclass', 'subfamily', 'variety', 'suborder', 'division',\n",
       "       'infraphylum', 'superclass', 'superorder', 'subgenus', 'subdomain',\n",
       "       'subdivision', 'superfamily', 'infraorder', 'form', 'section',\n",
       "       'parvorder', 'infraclass', 'supertribe', 'clade', 'nothospecies',\n",
       "       'magnorder', 'hyporder', 'subtribe', 'grandorder', 'mirorder',\n",
       "       'superlegion', 'legion', 'infralegion', 'megaclass', 'cohort',\n",
       "       'megacohort', 'supercohort', 'subcohort', 'infracohort', 'subsection',\n",
       "       'series', 'ichnogenus', 'subterclass', 'epifamily', 'species group',\n",
       "       'infratribe', 'nanorder', 'forma specialis', 'realm'],\n",
       "      dtype='object')"
      ]
     },
     "execution_count": 19,
     "metadata": {},
     "output_type": "execute_result"
    }
   ],
   "source": [
    "rank_df.columns"
   ]
  },
  {
   "cell_type": "code",
   "execution_count": 47,
   "metadata": {},
   "outputs": [],
   "source": [
    "#extra_cols = [x for x in list(rank_df.columns) if x != \"wd_id\" and \" \" not in x]\n",
    "extra_cols = [\"kingdom\",\"phylum\", \"order\", \"family\", \"genus\"]"
   ]
  },
  {
   "cell_type": "code",
   "execution_count": 49,
   "metadata": {},
   "outputs": [
    {
     "name": "stdout",
     "output_type": "stream",
     "text": [
      "Loading metadata file..\n",
      "Metadata loaded\n"
     ]
    },
    {
     "name": "stderr",
     "output_type": "stream",
     "text": [
      "/Users/theosanderson/miniconda3/lib/python3.9/site-packages/taxoniumtools/newick_to_taxonium.py:48: ResourceWarning: unclosed file <_io.TextIOWrapper name='config.json' mode='r' encoding='UTF-8'>\n",
      "  config = json.load(open(config_file))\n",
      "ResourceWarning: Enable tracemalloc to get the object allocation traceback\n"
     ]
    },
    {
     "name": "stdout",
     "output_type": "stream",
     "text": [
      "Ladderizing tree..\n",
      "Ladderizing done\n",
      "Setting x coordinates |████████████████████████████████████████| (!) 179780 in 0.2s (1081799.10/s) \n",
      "Normalising x coordinates |████████████████████████████████████████| 179780/179780 [100%] in 0.1s (1383505.75/s) \n",
      "Setting terminal y coordinates |████████████████████████████████████████| (!) 128831 in 0.1s (1143369.78/s) \n",
      "Setting internal y coordinates |████████████████████████████████████████| (!) 50949 in 0.1s (474609.38/s) \n",
      "Sorting on y |████████████████████████████████████████| (!) 179780 in 0.1s (1259269.29/s) \n",
      "Converting each node, and writing out in JSON |████████████████████████████████████████| 179780/179780 [100%] in 4.4s (40651.16/s) \n",
      "Done. Output written to out.jsonl.gz, with 179780 nodes.\n"
     ]
    },
    {
     "name": "stderr",
     "output_type": "stream",
     "text": [
      "/Users/theosanderson/miniconda3/lib/python3.9/site-packages/taxoniumtools/newick_to_taxonium.py:187: ResourceWarning: unclosed file <_io.TextIOWrapper name='wikidata-taxonomy.nwk' mode='rt' encoding='UTF-8'>\n",
      "  do_processing(args.input,\n",
      "ResourceWarning: Enable tracemalloc to get the object allocation traceback\n"
     ]
    },
    {
     "data": {
      "text/plain": [
       "0"
      ]
     },
     "execution_count": 49,
     "metadata": {},
     "output_type": "execute_result"
    }
   ],
   "source": [
    "command = f\"\"\"newick_to_taxonium -i wikidata-taxonomy.nwk -m wikidata-taxonomy.tsv -j config.json --key_column WikiData_id -c WikiPage,ThumbnailURL,name,rank,WikidataLink,{\n",
    "    \",\".join(extra_cols)\n",
    "} -o out.jsonl.gz\"\"\"\n",
    "import os\n",
    "os.system(command)"
   ]
  }
 ],
 "metadata": {
  "kernelspec": {
   "display_name": "Python 3.9.12 ('base')",
   "language": "python",
   "name": "python3"
  },
  "language_info": {
   "codemirror_mode": {
    "name": "ipython",
    "version": 3
   },
   "file_extension": ".py",
   "mimetype": "text/x-python",
   "name": "python",
   "nbconvert_exporter": "python",
   "pygments_lexer": "ipython3",
   "version": "3.9.12"
  },
  "orig_nbformat": 4,
  "vscode": {
   "interpreter": {
    "hash": "0e19b12203ebac0ec1611bdfbfce2523b44a2a3630b130ab2601fd584bf5b954"
   }
  }
 },
 "nbformat": 4,
 "nbformat_minor": 2
}
